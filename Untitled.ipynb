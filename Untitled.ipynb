{
 "cells": [
  {
   "cell_type": "code",
   "execution_count": 2,
   "id": "7c87e677",
   "metadata": {},
   "outputs": [],
   "source": [
    "import json\n",
    "import os"
   ]
  },
  {
   "cell_type": "code",
   "execution_count": 3,
   "id": "86319186",
   "metadata": {},
   "outputs": [],
   "source": [
    "pts = 0\n",
    "count_q = 0\n",
    "rodada = 1\n",
    "letters = ['a', 'b', 'c', 'd']\n",
    "player_res_list = []\n",
    "computer_res_list = []\n",
    "player_dict = {}\n",
    "new_round = {}"
   ]
  },
  {
   "cell_type": "code",
   "execution_count": 4,
   "id": "177b8ea2",
   "metadata": {},
   "outputs": [
    {
     "name": "stdout",
     "output_type": "stream",
     "text": [
      "=============================\n",
      "Bem-vindo o jogo do quiz\n"
     ]
    }
   ],
   "source": [
    "print('=============================')\n",
    "print('Bem-vindo o jogo do quiz')\n",
    "def main_print(pts, rodada):\n",
    "    print('=============================')\n",
    "    print(f'\\nPontos: {pts}')\n",
    "    print((f'Rodada: {rodada}'))\n",
    "    print('Escolha se quer jogar ou não')\n",
    "    print('0 - SIM | 1 - NÃO')"
   ]
  },
  {
   "cell_type": "code",
   "execution_count": 5,
   "id": "859efe5b",
   "metadata": {},
   "outputs": [],
   "source": [
    "# Validação de entrada (0 ou 1)\n",
    "def validation_in():\n",
    "    while True:\n",
    "        try:\n",
    "            player_move = int(input())\n",
    "            if player_move not in [0, 1]:\n",
    "                raise ValueError('Erro inválido. Insira 0 ou 1')\n",
    "            return player_move\n",
    "        except Exception as e:\n",
    "            print(f'Error: {e}')"
   ]
  },
  {
   "cell_type": "code",
   "execution_count": 6,
   "id": "34e7e36d",
   "metadata": {},
   "outputs": [],
   "source": [
    "# Validação de entrada para letra (a, b, c ou d)\n",
    "def validation_letters():\n",
    "    while True:\n",
    "        try:\n",
    "            player_response = input('Resposta: ')\n",
    "            if player_response not in letters:\n",
    "                raise ValueError('Entrada inválida! Insira a, b, c ou d')\n",
    "            player_res_list.append(player_response)\n",
    "            return player_response\n",
    "        except Exception as e:\n",
    "            print(f'Error: {e}')"
   ]
  },
  {
   "cell_type": "code",
   "execution_count": 7,
   "id": "e5050231",
   "metadata": {},
   "outputs": [],
   "source": [
    "#Visualização de questões, alternativas e respostas em JSON -> Dicionário em Py\n",
    "def view_json():\n",
    "    with open('questions.json') as file:\n",
    "        data = json.load(file)\n",
    "    return data"
   ]
  },
  {
   "cell_type": "code",
   "execution_count": 8,
   "id": "87c66783",
   "metadata": {},
   "outputs": [],
   "source": [
    "#Visualização de informações do jogador\n",
    "def view_json_players():\n",
    "    with open('players.json') as file:\n",
    "        data_players = json.load(file)\n",
    "    return data_players"
   ]
  },
  {
   "cell_type": "code",
   "execution_count": 9,
   "id": "86383d8f",
   "metadata": {},
   "outputs": [],
   "source": [
    "# Startando o jogo\n",
    "\n",
    "def play_quiz(player_move, data, letters):\n",
    "    if player_move == 0:\n",
    "        nome = input(\"Nome: \")\n",
    "        for num_q, question in enumerate(data, start=1):\n",
    "            show_question(num_q, question, letters)\n",
    "        return nome\n",
    "    elif player_move == 1:\n",
    "        os.system('exit')\n",
    "    else:\n",
    "        ..."
   ]
  },
  {
   "cell_type": "code",
   "execution_count": 10,
   "id": "3eed0f04",
   "metadata": {},
   "outputs": [],
   "source": [
    "# Mostrar questões\n",
    "\n",
    "def show_question(num_q, question, letters):\n",
    "    print(f\"\\n{num_q}) {question['pergunta']}\")\n",
    "    for i, option in enumerate(question[\"opcoes\"][:len(letters)], start=0):\n",
    "        print(f\"{letters[i]}) {option}\")\n",
    "    validation_letters()"
   ]
  },
  {
   "cell_type": "code",
   "execution_count": 11,
   "id": "8791d435",
   "metadata": {},
   "outputs": [],
   "source": [
    "# Checagem de resposta\n",
    "\n",
    "def check_pts_res(pts, data, computer_res_list, player_res_list):\n",
    "    # Iterando sobre cada pergunta\n",
    "    for question in data:\n",
    "        for i, (option, letter) in enumerate(zip(question['opcoes'], letters)):\n",
    "            if question['resposta'] == option:\n",
    "                computer_res_list.append(letter)\n",
    "    # Comparando as listas e somando a pontuação\n",
    "    for player_res_list, computer_res_list in zip(player_res_list, computer_res_list):\n",
    "        if player_res_list == computer_res_list:\n",
    "            pts += 10\n",
    "    return pts"
   ]
  },
  {
   "cell_type": "code",
   "execution_count": 21,
   "id": "40ea9d48",
   "metadata": {},
   "outputs": [],
   "source": [
    "# Capturar informações sobre o jogador\n",
    "def captura_info_player(data_players, nome, player_res_list, computer_res_list, pts, player_dict):\n",
    "    new_round = {}\n",
    "\n",
    "    # Armazenando dados da rodada\n",
    "    new_round['rodada'] = rodada\n",
    "    new_round['resposta_jogador'] = player_res_list\n",
    "    new_round['resposta_computador'] = computer_res_list\n",
    "    new_round['pontos'] = pts\n",
    "\n",
    "    for player in data_players:\n",
    "        if nome in data_players:\n",
    "            player['rodadas'].append(new_round)\n",
    "        if nome not in data_players:\n",
    "            new_player = {\n",
    "                'nome': nome,\n",
    "                'rodadas': [\n",
    "                    new_round\n",
    "                ]\n",
    "            }\n",
    "            data_players.append(new_player)\n",
    "\n",
    "    for player in data_players:\n",
    "        print(f'\\n{player[\"nome\"]}\\nRodadas: {player[\"rodadas\"]}')\n",
    "\n",
    "    with open('players.json', 'w') as file:\n",
    "        json.dump(data_players, file, indent=2)\n",
    "\n",
    "        \n",
    "    \n"
   ]
  },
  {
   "cell_type": "code",
   "execution_count": 22,
   "id": "995b344f",
   "metadata": {},
   "outputs": [
    {
     "name": "stdout",
     "output_type": "stream",
     "text": [
      "=============================\n",
      "\n",
      "Pontos: 240\n",
      "Rodada: 1\n",
      "Escolha se quer jogar ou não\n",
      "0 - SIM | 1 - NÃO\n",
      "0\n",
      "Nome: a\n",
      "\n",
      "1) Quem foi o primeiro homem a pisar na Lua?\n",
      "a) Neil Armstrong\n",
      "b) Buzz Aldrin\n",
      "c) Yuri Gagarin\n",
      "d) Alan Shepard\n",
      "Resposta: a\n",
      "\n",
      "2) Qual é o maior planeta do sistema solar?\n",
      "a) Júpiter\n",
      "b) Saturno\n",
      "c) Terra\n",
      "d) Marte\n",
      "Resposta: a\n",
      "\n",
      "3) Quem pintou a 'Mona Lisa'?\n",
      "a) Leonardo da Vinci\n",
      "b) Michelangelo\n",
      "c) Pablo Picasso\n",
      "d) Vincent van Gogh\n",
      "Resposta: a\n",
      "\n",
      "4) Qual é o maior oceano do mundo?\n",
      "a) Oceano Pacífico\n",
      "b) Oceano Atlântico\n",
      "c) Oceano Índico\n",
      "d) Oceano Antártico\n",
      "Resposta: a\n",
      "\n",
      "5) Quem foi o primeiro presidente dos Estados Unidos?\n",
      "a) George Washington\n",
      "b) Thomas Jefferson\n",
      "c) John Adams\n",
      "d) Abraham Lincoln\n",
      "Resposta: a\n",
      "\n",
      "6) Qual é a capital da Austrália?\n",
      "a) Sydney\n",
      "b) Melbourne\n",
      "c) Brisbane\n",
      "d) Camberra\n",
      "Resposta: a\n",
      "\n",
      "7) Quem escreveu 'Romeu e Julieta'?\n",
      "a) William Shakespeare\n",
      "b) Charles Dickens\n",
      "c) Jane Austen\n",
      "d) F. Scott Fitzgerald\n",
      "Resposta: a\n",
      "\n",
      "8) Qual é o maior animal terrestre?\n",
      "a) Elefante Africano\n",
      "b) Baleia Azul\n",
      "c) Girafa\n",
      "d) Hipopótamo\n",
      "Resposta: a\n"
     ]
    },
    {
     "ename": "TypeError",
     "evalue": "captura_info_player() takes 6 positional arguments but 8 were given",
     "output_type": "error",
     "traceback": [
      "\u001b[0;31m---------------------------------------------------------------------------\u001b[0m",
      "\u001b[0;31mTypeError\u001b[0m                                 Traceback (most recent call last)",
      "Cell \u001b[0;32mIn[22], line 11\u001b[0m\n\u001b[1;32m      9\u001b[0m data_players \u001b[38;5;241m=\u001b[39m view_json_players()\n\u001b[1;32m     10\u001b[0m \u001b[38;5;66;03m# Capturando dados da jogada do jogador\u001b[39;00m\n\u001b[0;32m---> 11\u001b[0m captura_info_player(data_players, nome, rodada, player_res_list, computer_res_list, pts, player_dict, new_round)\n\u001b[1;32m     13\u001b[0m \u001b[38;5;28mprint\u001b[39m(\u001b[38;5;124m'\u001b[39m\u001b[38;5;130;01m\\n\u001b[39;00m\u001b[38;5;124m==================\u001b[39m\u001b[38;5;124m'\u001b[39m)\n\u001b[1;32m     14\u001b[0m \u001b[38;5;28mprint\u001b[39m(\u001b[38;5;124mf\u001b[39m\u001b[38;5;124m'\u001b[39m\u001b[38;5;124mPLACAR: \u001b[39m\u001b[38;5;132;01m{\u001b[39;00mpts\u001b[38;5;132;01m}\u001b[39;00m\u001b[38;5;124m pontos\u001b[39m\u001b[38;5;124m'\u001b[39m)\n",
      "\u001b[0;31mTypeError\u001b[0m: captura_info_player() takes 6 positional arguments but 8 were given"
     ]
    }
   ],
   "source": [
    "again = 1\n",
    "while again == 1:\n",
    "    main_print(pts, rodada)\n",
    "    player_move = validation_in()\n",
    "    data = view_json()\n",
    "    nome = play_quiz(player_move, data, letters)\n",
    "    pts = check_pts_res(pts, data, computer_res_list, player_res_list)\n",
    "    # Capturando dados do arquivo JSON\n",
    "    data_players = view_json_players()\n",
    "    # Capturando dados da jogada do jogador\n",
    "    captura_info_player(data_players, nome, rodada, player_res_list, computer_res_list, pts, player_dict, new_round)\n",
    "\n",
    "    print('\\n==================')\n",
    "    print(f'PLACAR: {pts} pontos')\n",
    "    print('==================')\n",
    "\n",
    "    while True:\n",
    "        print('\\nJogar novamente? 0 - SIM | 1 - NÃO')\n",
    "        next = int(input())\n",
    "        if next == 0:\n",
    "            rodada += 1\n",
    "            break\n",
    "        elif next == 1:\n",
    "            again = 0\n",
    "            break\n",
    "    os.system('clear')"
   ]
  },
  {
   "cell_type": "markdown",
   "id": "bb8b69e8",
   "metadata": {},
   "source": [
    "### Teste "
   ]
  },
  {
   "cell_type": "code",
   "execution_count": 20,
   "id": "faa4376e",
   "metadata": {},
   "outputs": [
    {
     "name": "stdout",
     "output_type": "stream",
     "text": [
      "(id=?) Nome: Mister Bin\n",
      "Rodadas: [{'rodada': 1, 'resposta_jogador': ['a', 'b', 'c', 'd', 'a', 'a', 'a', 'a'], 'resposta_computador': ['a', 'a', 'a', 'a', 'a', 'd', 'a', 'a'], 'pts': 40}, {'rodada': 2, 'resposta_jogador': ['a', 'b', 'c', 'd', 'a', 'a', 'a', 'a'], 'resposta_computador': ['a', 'a', 'a', 'a', 'a', 'd', 'a', 'a'], 'pts': 40}]\n"
     ]
    }
   ],
   "source": [
    "data_players = view_json_players()\n",
    "\n",
    "for player in data_players:\n",
    "    print('(id=?) Nome: {nome}\\nRodadas: {rodadas}'.format(**player))"
   ]
  },
  {
   "cell_type": "markdown",
   "id": "285fca6b",
   "metadata": {},
   "source": [
    "Incrementação de dados fornecidos pelo usuário durante o jogo e inserir no arquivo json"
   ]
  },
  {
   "cell_type": "code",
   "execution_count": 67,
   "id": "a97c576e",
   "metadata": {},
   "outputs": [
    {
     "name": "stdout",
     "output_type": "stream",
     "text": [
      "{}\n"
     ]
    }
   ],
   "source": [
    "print(new_round)\n",
    "    "
   ]
  }
 ],
 "metadata": {
  "kernelspec": {
   "display_name": "Python 3 (ipykernel)",
   "language": "python",
   "name": "python3"
  },
  "language_info": {
   "codemirror_mode": {
    "name": "ipython",
    "version": 3
   },
   "file_extension": ".py",
   "mimetype": "text/x-python",
   "name": "python",
   "nbconvert_exporter": "python",
   "pygments_lexer": "ipython3",
   "version": "3.11.5"
  }
 },
 "nbformat": 4,
 "nbformat_minor": 5
}
