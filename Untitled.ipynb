{
 "cells": [
  {
   "cell_type": "code",
   "execution_count": 1,
   "id": "7c87e677",
   "metadata": {},
   "outputs": [],
   "source": [
    "import json"
   ]
  },
  {
   "cell_type": "code",
   "execution_count": 2,
   "id": "86319186",
   "metadata": {},
   "outputs": [],
   "source": [
    "# Variáveis globais/inciais\n",
    "pts = 0\n",
    "count = 0\n",
    "letters = ['a', 'b', 'c', 'd']"
   ]
  },
  {
   "cell_type": "code",
   "execution_count": 3,
   "id": "177b8ea2",
   "metadata": {},
   "outputs": [
    {
     "name": "stdout",
     "output_type": "stream",
     "text": [
      "=============================\n",
      "Bem-vindo o jogo do QUIZ\n"
     ]
    }
   ],
   "source": [
    "# Apresentação quiz\n",
    "print('=============================')\n",
    "print('Bem-vindo o jogo do QUIZ')\n",
    "\n",
    "def main_print(pts):\n",
    "    print('=============================')\n",
    "    print(f'\\nPontos: {pts}')\n",
    "    print('Escolha se quer jogar ou não')\n",
    "    print('0 - SIM | 1 - NÃO')"
   ]
  },
  {
   "cell_type": "code",
   "execution_count": 4,
   "id": "859efe5b",
   "metadata": {},
   "outputs": [],
   "source": [
    "# Validação de entrada\n",
    "def validation_in():\n",
    "    while True:\n",
    "        try:\n",
    "            player_move = int(input())\n",
    "            if player_move not in [0, 1]:\n",
    "                raise ValueError('Erro inválido. Insira 0 ou 1')\n",
    "            return player_move\n",
    "        except Exception as e:\n",
    "            print(f'Error: {e}')"
   ]
  },
  {
   "cell_type": "code",
   "execution_count": 5,
   "id": "e5050231",
   "metadata": {},
   "outputs": [],
   "source": [
    "# Visualização e converção de arquivo JSON para dicionário\n",
    "def view_JSON():\n",
    "    with open('questions.json') as file:\n",
    "        data = json.load(file)\n",
    "\n",
    "    return data"
   ]
  },
  {
   "cell_type": "code",
   "execution_count": 6,
   "id": "3eed0f04",
   "metadata": {},
   "outputs": [],
   "source": [
    "# Seleção das oções precionadas pelo usuário\n",
    "def select_op(player_move, data, letters):\n",
    "    if player_move == 0:\n",
    "        for questions in data:\n",
    "            for i, question in enumerate(questions):\n",
    "                print(i, question)\n",
    "    else:\n",
    "        ..."
   ]
  },
  {
   "cell_type": "code",
   "execution_count": 8,
   "id": "8791d435",
   "metadata": {},
   "outputs": [
    {
     "name": "stdout",
     "output_type": "stream",
     "text": [
      "=============================\n",
      "\n",
      "Pontos: 0\n",
      "Escolha se quer jogar ou não\n",
      "0 - SIM | 1 - NÃO\n",
      "0\n"
     ]
    },
    {
     "ename": "TypeError",
     "evalue": "string indices must be integers, not 'str'",
     "output_type": "error",
     "traceback": [
      "\u001b[0;31m---------------------------------------------------------------------------\u001b[0m",
      "\u001b[0;31mTypeError\u001b[0m                                 Traceback (most recent call last)",
      "Cell \u001b[0;32mIn[8], line 7\u001b[0m\n\u001b[1;32m      5\u001b[0m player_move \u001b[38;5;241m=\u001b[39m validation_in()\n\u001b[1;32m      6\u001b[0m data \u001b[38;5;241m=\u001b[39m view_JSON()\n\u001b[0;32m----> 7\u001b[0m select_op \u001b[38;5;241m=\u001b[39m select_op(player_move, data, letters)\n",
      "Cell \u001b[0;32mIn[6], line 6\u001b[0m, in \u001b[0;36mselect_op\u001b[0;34m(player_move, data, letters)\u001b[0m\n\u001b[1;32m      4\u001b[0m     \u001b[38;5;28;01mfor\u001b[39;00m questions \u001b[38;5;129;01min\u001b[39;00m data:\n\u001b[1;32m      5\u001b[0m         \u001b[38;5;28;01mfor\u001b[39;00m i, question \u001b[38;5;129;01min\u001b[39;00m \u001b[38;5;28menumerate\u001b[39m(questions):\n\u001b[0;32m----> 6\u001b[0m             \u001b[38;5;28mprint\u001b[39m(i, question[\u001b[38;5;124m'\u001b[39m\u001b[38;5;124mpergunta\u001b[39m\u001b[38;5;124m'\u001b[39m])\n\u001b[1;32m      7\u001b[0m \u001b[38;5;28;01melse\u001b[39;00m:\n\u001b[1;32m      8\u001b[0m     \u001b[38;5;241m.\u001b[39m\u001b[38;5;241m.\u001b[39m\u001b[38;5;241m.\u001b[39m\n",
      "\u001b[0;31mTypeError\u001b[0m: string indices must be integers, not 'str'"
     ]
    }
   ],
   "source": [
    "# Execução do jogo\n",
    "again = 1\n",
    "while again == 1:\n",
    "    main_print(pts)\n",
    "    player_move = validation_in()\n",
    "    data = view_JSON()\n",
    "    select_op = select_op(player_move, data, letters)"
   ]
  },
  {
   "cell_type": "code",
   "execution_count": null,
   "id": "40ea9d48",
   "metadata": {},
   "outputs": [],
   "source": []
  }
 ],
 "metadata": {
  "kernelspec": {
   "display_name": "Python 3 (ipykernel)",
   "language": "python",
   "name": "python3"
  },
  "language_info": {
   "codemirror_mode": {
    "name": "ipython",
    "version": 3
   },
   "file_extension": ".py",
   "mimetype": "text/x-python",
   "name": "python",
   "nbconvert_exporter": "python",
   "pygments_lexer": "ipython3",
   "version": "3.11.5"
  }
 },
 "nbformat": 4,
 "nbformat_minor": 5
}
